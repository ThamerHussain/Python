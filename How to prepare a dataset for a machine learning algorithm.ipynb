{
  "nbformat": 4,
  "nbformat_minor": 0,
  "metadata": {
    "colab": {
      "name": "Assignment_02_Data_Processing_Thamer_Hussain.ipynb",
      "provenance": [],
      "collapsed_sections": []
    },
    "kernelspec": {
      "name": "python3",
      "display_name": "Python 3"
    },
    "language_info": {
      "name": "python"
    }
  },
  "cells": [
    {
      "cell_type": "markdown",
      "metadata": {
        "id": "YbV_a0yFWvhJ"
      },
      "source": [
        "# Import Python Libraries "
      ]
    },
    {
      "cell_type": "code",
      "metadata": {
        "id": "mBkNuIX6w8Ii"
      },
      "source": [
        "import pandas as pd\n",
        "import numpy as np\n",
        "import matplotlib.pyplot as plt"
      ],
      "execution_count": null,
      "outputs": []
    },
    {
      "cell_type": "markdown",
      "metadata": {
        "id": "rBUESTXrb9zT"
      },
      "source": [
        "# 1- Read CSV file"
      ]
    },
    {
      "cell_type": "code",
      "source": [
        "# Downlowd the dataset \n",
        "!wget -O winemag-data-assignment-02.csv 'https://drive.google.com/u/0/uc?id=1LQAW9gQwIdwd3NXpqFAEEyamyU6kNrpF&export=download'"
      ],
      "metadata": {
        "colab": {
          "base_uri": "https://localhost:8080/"
        },
        "id": "gSLrgyt9JyNR",
        "outputId": "20b78839-1556-4c34-b62b-1942b228340c"
      },
      "execution_count": null,
      "outputs": [
        {
          "output_type": "stream",
          "name": "stdout",
          "text": [
            "--2022-01-26 16:07:08--  https://drive.google.com/u/0/uc?id=1LQAW9gQwIdwd3NXpqFAEEyamyU6kNrpF&export=download\n",
            "Resolving drive.google.com (drive.google.com)... 74.125.203.102, 74.125.203.100, 74.125.203.113, ...\n",
            "Connecting to drive.google.com (drive.google.com)|74.125.203.102|:443... connected.\n",
            "HTTP request sent, awaiting response... 302 Moved Temporarily\n",
            "Location: https://doc-0k-1o-docs.googleusercontent.com/docs/securesc/ha0ro937gcuc7l7deffksulhg5h7mbp1/mhph1sbqa3c1olubi5j27tphg62kabrv/1643213175000/12354821778029633344/*/1LQAW9gQwIdwd3NXpqFAEEyamyU6kNrpF?e=download [following]\n",
            "Warning: wildcards not supported in HTTP.\n",
            "--2022-01-26 16:07:09--  https://doc-0k-1o-docs.googleusercontent.com/docs/securesc/ha0ro937gcuc7l7deffksulhg5h7mbp1/mhph1sbqa3c1olubi5j27tphg62kabrv/1643213175000/12354821778029633344/*/1LQAW9gQwIdwd3NXpqFAEEyamyU6kNrpF?e=download\n",
            "Resolving doc-0k-1o-docs.googleusercontent.com (doc-0k-1o-docs.googleusercontent.com)... 142.251.8.132, 2404:6800:4008:c15::84\n",
            "Connecting to doc-0k-1o-docs.googleusercontent.com (doc-0k-1o-docs.googleusercontent.com)|142.251.8.132|:443... connected.\n",
            "HTTP request sent, awaiting response... 200 OK\n",
            "Length: 2457918 (2.3M) [text/csv]\n",
            "Saving to: ‘winemag-data-assignment-02.csv’\n",
            "\n",
            "winemag-data-assign 100%[===================>]   2.34M  --.-KB/s    in 0.02s   \n",
            "\n",
            "2022-01-26 16:07:10 (106 MB/s) - ‘winemag-data-assignment-02.csv’ saved [2457918/2457918]\n",
            "\n"
          ]
        }
      ]
    },
    {
      "cell_type": "code",
      "metadata": {
        "id": "p3p0fhtcx_a0",
        "colab": {
          "base_uri": "https://localhost:8080/",
          "height": 815
        },
        "outputId": "c7a609e3-688b-4260-f87a-361ba508e176"
      },
      "source": [
        "# Read the csv file \n",
        "df = pd.read_csv('/content/winemag-data-assignment-02.csv')\n",
        "df "
      ],
      "execution_count": null,
      "outputs": [
        {
          "output_type": "execute_result",
          "data": {
            "text/html": [
              "\n",
              "  <div id=\"df-c1955850-2290-4e9f-afbe-b64bb8e18cc7\">\n",
              "    <div class=\"colab-df-container\">\n",
              "      <div>\n",
              "<style scoped>\n",
              "    .dataframe tbody tr th:only-of-type {\n",
              "        vertical-align: middle;\n",
              "    }\n",
              "\n",
              "    .dataframe tbody tr th {\n",
              "        vertical-align: top;\n",
              "    }\n",
              "\n",
              "    .dataframe thead th {\n",
              "        text-align: right;\n",
              "    }\n",
              "</style>\n",
              "<table border=\"1\" class=\"dataframe\">\n",
              "  <thead>\n",
              "    <tr style=\"text-align: right;\">\n",
              "      <th></th>\n",
              "      <th>Unnamed: 0</th>\n",
              "      <th>country</th>\n",
              "      <th>description</th>\n",
              "      <th>designation</th>\n",
              "      <th>points</th>\n",
              "      <th>price</th>\n",
              "      <th>province</th>\n",
              "      <th>region_1</th>\n",
              "      <th>region_2</th>\n",
              "      <th>taster_name</th>\n",
              "      <th>taster_twitter_handle</th>\n",
              "      <th>title</th>\n",
              "      <th>variety</th>\n",
              "      <th>winery</th>\n",
              "    </tr>\n",
              "  </thead>\n",
              "  <tbody>\n",
              "    <tr>\n",
              "      <th>0</th>\n",
              "      <td>0</td>\n",
              "      <td>Italy</td>\n",
              "      <td>Aromas include tropical fruit, broom, brimston...</td>\n",
              "      <td>Vulkà Bianco</td>\n",
              "      <td>87.0</td>\n",
              "      <td>NaN</td>\n",
              "      <td>Sicily &amp; Sardinia</td>\n",
              "      <td>Etna</td>\n",
              "      <td>NaN</td>\n",
              "      <td>Kerin O’Keefe</td>\n",
              "      <td>@kerinokeefe</td>\n",
              "      <td>Nicosia 2013 Vulkà Bianco  (Etna)</td>\n",
              "      <td>White Blend</td>\n",
              "      <td>Nicosia</td>\n",
              "    </tr>\n",
              "    <tr>\n",
              "      <th>1</th>\n",
              "      <td>1</td>\n",
              "      <td>Portugal</td>\n",
              "      <td>This is ripe and fruity, a wine that is smooth...</td>\n",
              "      <td>Avidagos</td>\n",
              "      <td>87.0</td>\n",
              "      <td>15.0</td>\n",
              "      <td>Douro</td>\n",
              "      <td>NaN</td>\n",
              "      <td>NaN</td>\n",
              "      <td>Roger Voss</td>\n",
              "      <td>@vossroger</td>\n",
              "      <td>Quinta dos Avidagos 2011 Avidagos Red (Douro)</td>\n",
              "      <td>Portuguese Red</td>\n",
              "      <td>Quinta dos Avidagos</td>\n",
              "    </tr>\n",
              "    <tr>\n",
              "      <th>2</th>\n",
              "      <td>2</td>\n",
              "      <td>US</td>\n",
              "      <td>Tart and snappy, the flavors of lime flesh and...</td>\n",
              "      <td>NaN</td>\n",
              "      <td>87.0</td>\n",
              "      <td>14.0</td>\n",
              "      <td>Oregon</td>\n",
              "      <td>Willamette Valley</td>\n",
              "      <td>Willamette Valley</td>\n",
              "      <td>Paul Gregutt</td>\n",
              "      <td>@paulgwine</td>\n",
              "      <td>Rainstorm 2013 Pinot Gris (Willamette Valley)</td>\n",
              "      <td>Pinot Gris</td>\n",
              "      <td>Rainstorm</td>\n",
              "    </tr>\n",
              "    <tr>\n",
              "      <th>3</th>\n",
              "      <td>3</td>\n",
              "      <td>US</td>\n",
              "      <td>Pineapple rind, lemon pith and orange blossom ...</td>\n",
              "      <td>Reserve Late Harvest</td>\n",
              "      <td>87.0</td>\n",
              "      <td>13.0</td>\n",
              "      <td>Michigan</td>\n",
              "      <td>Lake Michigan Shore</td>\n",
              "      <td>NaN</td>\n",
              "      <td>Alexander Peartree</td>\n",
              "      <td>NaN</td>\n",
              "      <td>St. Julian 2013 Reserve Late Harvest Riesling ...</td>\n",
              "      <td>Riesling</td>\n",
              "      <td>St. Julian</td>\n",
              "    </tr>\n",
              "    <tr>\n",
              "      <th>4</th>\n",
              "      <td>4</td>\n",
              "      <td>US</td>\n",
              "      <td>Much like the regular bottling from 2012, this...</td>\n",
              "      <td>Vintner's Reserve Wild Child Block</td>\n",
              "      <td>87.0</td>\n",
              "      <td>65.0</td>\n",
              "      <td>Oregon</td>\n",
              "      <td>Willamette Valley</td>\n",
              "      <td>Willamette Valley</td>\n",
              "      <td>Paul Gregutt</td>\n",
              "      <td>@paulgwine</td>\n",
              "      <td>Sweet Cheeks 2012 Vintner's Reserve Wild Child...</td>\n",
              "      <td>Pinot Noir</td>\n",
              "      <td>Sweet Cheeks</td>\n",
              "    </tr>\n",
              "    <tr>\n",
              "      <th>...</th>\n",
              "      <td>...</td>\n",
              "      <td>...</td>\n",
              "      <td>...</td>\n",
              "      <td>...</td>\n",
              "      <td>...</td>\n",
              "      <td>...</td>\n",
              "      <td>...</td>\n",
              "      <td>...</td>\n",
              "      <td>...</td>\n",
              "      <td>...</td>\n",
              "      <td>...</td>\n",
              "      <td>...</td>\n",
              "      <td>...</td>\n",
              "      <td>...</td>\n",
              "    </tr>\n",
              "    <tr>\n",
              "      <th>6154</th>\n",
              "      <td>6154</td>\n",
              "      <td>Australia</td>\n",
              "      <td>The top Australian Cabernets retain distinct v...</td>\n",
              "      <td>NaN</td>\n",
              "      <td>89.0</td>\n",
              "      <td>32.0</td>\n",
              "      <td>Victoria</td>\n",
              "      <td>Pyrenees</td>\n",
              "      <td>NaN</td>\n",
              "      <td>Joe Czerwinski</td>\n",
              "      <td>@JoeCz</td>\n",
              "      <td>Taltarni 2004 Cabernet Sauvignon (Pyrenees)</td>\n",
              "      <td>Cabernet Sauvignon</td>\n",
              "      <td>Taltarni</td>\n",
              "    </tr>\n",
              "    <tr>\n",
              "      <th>6155</th>\n",
              "      <td>6155</td>\n",
              "      <td>Chile</td>\n",
              "      <td>Really good wine with blasting dark fruit, win...</td>\n",
              "      <td>Kuyen</td>\n",
              "      <td>89.0</td>\n",
              "      <td>30.0</td>\n",
              "      <td>Maipo Valley</td>\n",
              "      <td>NaN</td>\n",
              "      <td>NaN</td>\n",
              "      <td>Michael Schachner</td>\n",
              "      <td>@wineschach</td>\n",
              "      <td>Antiyal 2006 Kuyen Red (Maipo Valley)</td>\n",
              "      <td>Red Blend</td>\n",
              "      <td>Antiyal</td>\n",
              "    </tr>\n",
              "    <tr>\n",
              "      <th>6156</th>\n",
              "      <td>6156</td>\n",
              "      <td>France</td>\n",
              "      <td>Importer Bobby Kacher seemingly has a pipeline...</td>\n",
              "      <td>Cuvée Tradition</td>\n",
              "      <td>89.0</td>\n",
              "      <td>13.0</td>\n",
              "      <td>Rhône Valley</td>\n",
              "      <td>Costières de Nîmes</td>\n",
              "      <td>NaN</td>\n",
              "      <td>Joe Czerwinski</td>\n",
              "      <td>@JoeCz</td>\n",
              "      <td>Mas des Bressades 2008 Cuvée Tradition Rosé (C...</td>\n",
              "      <td>Rosé</td>\n",
              "      <td>Mas des Bressades</td>\n",
              "    </tr>\n",
              "    <tr>\n",
              "      <th>6157</th>\n",
              "      <td>6157</td>\n",
              "      <td>US</td>\n",
              "      <td>With a ruby-crimson color, this sparkling wine...</td>\n",
              "      <td>Rouge</td>\n",
              "      <td>89.0</td>\n",
              "      <td>35.0</td>\n",
              "      <td>California</td>\n",
              "      <td>Napa Valley</td>\n",
              "      <td>Napa</td>\n",
              "      <td>NaN</td>\n",
              "      <td>NaN</td>\n",
              "      <td>Frank Family NV Rouge Sparkling (Napa Valley)</td>\n",
              "      <td>Sparkling Blend</td>\n",
              "      <td>Frank Family</td>\n",
              "    </tr>\n",
              "    <tr>\n",
              "      <th>6158</th>\n",
              "      <td>6158</td>\n",
              "      <td>US</td>\n",
              "      <td>Soft and gentle, this is a Zin to drink right ...</td>\n",
              "      <td>NaN</td>\n",
              "      <td>89.0</td>\n",
              "      <td>25.0</td>\n",
              "      <td>California</td>\n",
              "      <td>Alexander Valley</td>\n",
              "      <td>Sonoma</td>\n",
              "      <td>NaN</td>\n",
              "      <td>NaN</td>\n",
              "      <td>Hobo 2007 Zinfandel (Alexander Valley)</td>\n",
              "      <td>Zinfandel</td>\n",
              "      <td>Hobo</td>\n",
              "    </tr>\n",
              "  </tbody>\n",
              "</table>\n",
              "<p>6159 rows × 14 columns</p>\n",
              "</div>\n",
              "      <button class=\"colab-df-convert\" onclick=\"convertToInteractive('df-c1955850-2290-4e9f-afbe-b64bb8e18cc7')\"\n",
              "              title=\"Convert this dataframe to an interactive table.\"\n",
              "              style=\"display:none;\">\n",
              "        \n",
              "  <svg xmlns=\"http://www.w3.org/2000/svg\" height=\"24px\"viewBox=\"0 0 24 24\"\n",
              "       width=\"24px\">\n",
              "    <path d=\"M0 0h24v24H0V0z\" fill=\"none\"/>\n",
              "    <path d=\"M18.56 5.44l.94 2.06.94-2.06 2.06-.94-2.06-.94-.94-2.06-.94 2.06-2.06.94zm-11 1L8.5 8.5l.94-2.06 2.06-.94-2.06-.94L8.5 2.5l-.94 2.06-2.06.94zm10 10l.94 2.06.94-2.06 2.06-.94-2.06-.94-.94-2.06-.94 2.06-2.06.94z\"/><path d=\"M17.41 7.96l-1.37-1.37c-.4-.4-.92-.59-1.43-.59-.52 0-1.04.2-1.43.59L10.3 9.45l-7.72 7.72c-.78.78-.78 2.05 0 2.83L4 21.41c.39.39.9.59 1.41.59.51 0 1.02-.2 1.41-.59l7.78-7.78 2.81-2.81c.8-.78.8-2.07 0-2.86zM5.41 20L4 18.59l7.72-7.72 1.47 1.35L5.41 20z\"/>\n",
              "  </svg>\n",
              "      </button>\n",
              "      \n",
              "  <style>\n",
              "    .colab-df-container {\n",
              "      display:flex;\n",
              "      flex-wrap:wrap;\n",
              "      gap: 12px;\n",
              "    }\n",
              "\n",
              "    .colab-df-convert {\n",
              "      background-color: #E8F0FE;\n",
              "      border: none;\n",
              "      border-radius: 50%;\n",
              "      cursor: pointer;\n",
              "      display: none;\n",
              "      fill: #1967D2;\n",
              "      height: 32px;\n",
              "      padding: 0 0 0 0;\n",
              "      width: 32px;\n",
              "    }\n",
              "\n",
              "    .colab-df-convert:hover {\n",
              "      background-color: #E2EBFA;\n",
              "      box-shadow: 0px 1px 2px rgba(60, 64, 67, 0.3), 0px 1px 3px 1px rgba(60, 64, 67, 0.15);\n",
              "      fill: #174EA6;\n",
              "    }\n",
              "\n",
              "    [theme=dark] .colab-df-convert {\n",
              "      background-color: #3B4455;\n",
              "      fill: #D2E3FC;\n",
              "    }\n",
              "\n",
              "    [theme=dark] .colab-df-convert:hover {\n",
              "      background-color: #434B5C;\n",
              "      box-shadow: 0px 1px 3px 1px rgba(0, 0, 0, 0.15);\n",
              "      filter: drop-shadow(0px 1px 2px rgba(0, 0, 0, 0.3));\n",
              "      fill: #FFFFFF;\n",
              "    }\n",
              "  </style>\n",
              "\n",
              "      <script>\n",
              "        const buttonEl =\n",
              "          document.querySelector('#df-c1955850-2290-4e9f-afbe-b64bb8e18cc7 button.colab-df-convert');\n",
              "        buttonEl.style.display =\n",
              "          google.colab.kernel.accessAllowed ? 'block' : 'none';\n",
              "\n",
              "        async function convertToInteractive(key) {\n",
              "          const element = document.querySelector('#df-c1955850-2290-4e9f-afbe-b64bb8e18cc7');\n",
              "          const dataTable =\n",
              "            await google.colab.kernel.invokeFunction('convertToInteractive',\n",
              "                                                     [key], {});\n",
              "          if (!dataTable) return;\n",
              "\n",
              "          const docLinkHtml = 'Like what you see? Visit the ' +\n",
              "            '<a target=\"_blank\" href=https://colab.research.google.com/notebooks/data_table.ipynb>data table notebook</a>'\n",
              "            + ' to learn more about interactive tables.';\n",
              "          element.innerHTML = '';\n",
              "          dataTable['output_type'] = 'display_data';\n",
              "          await google.colab.output.renderOutput(dataTable, element);\n",
              "          const docLink = document.createElement('div');\n",
              "          docLink.innerHTML = docLinkHtml;\n",
              "          element.appendChild(docLink);\n",
              "        }\n",
              "      </script>\n",
              "    </div>\n",
              "  </div>\n",
              "  "
            ],
            "text/plain": [
              "      Unnamed: 0    country  ...             variety               winery\n",
              "0              0      Italy  ...         White Blend              Nicosia\n",
              "1              1   Portugal  ...      Portuguese Red  Quinta dos Avidagos\n",
              "2              2         US  ...          Pinot Gris            Rainstorm\n",
              "3              3         US  ...            Riesling           St. Julian\n",
              "4              4         US  ...          Pinot Noir         Sweet Cheeks\n",
              "...          ...        ...  ...                 ...                  ...\n",
              "6154        6154  Australia  ...  Cabernet Sauvignon             Taltarni\n",
              "6155        6155      Chile  ...           Red Blend              Antiyal\n",
              "6156        6156     France  ...                Rosé    Mas des Bressades\n",
              "6157        6157         US  ...     Sparkling Blend         Frank Family\n",
              "6158        6158         US  ...           Zinfandel                 Hobo\n",
              "\n",
              "[6159 rows x 14 columns]"
            ]
          },
          "metadata": {},
          "execution_count": 4
        }
      ]
    },
    {
      "cell_type": "markdown",
      "metadata": {
        "id": "tYlyP4KZcGby"
      },
      "source": [
        "# 2- Print the info of the DataFrame"
      ]
    },
    {
      "cell_type": "code",
      "metadata": {
        "id": "wd-E1Rsx004r",
        "colab": {
          "base_uri": "https://localhost:8080/"
        },
        "outputId": "6e9a321b-754c-42c8-a5ef-0d7d2a484a26"
      },
      "source": [
        "# Use the info method to print out the informations of the dataset\n",
        "# Print the info of the DataFrame\n",
        "# Write your code here\n",
        "df.info()\n"
      ],
      "execution_count": null,
      "outputs": [
        {
          "output_type": "stream",
          "name": "stdout",
          "text": [
            "<class 'pandas.core.frame.DataFrame'>\n",
            "RangeIndex: 6159 entries, 0 to 6158\n",
            "Data columns (total 14 columns):\n",
            " #   Column                 Non-Null Count  Dtype  \n",
            "---  ------                 --------------  -----  \n",
            " 0   Unnamed: 0             6159 non-null   int64  \n",
            " 1   country                6156 non-null   object \n",
            " 2   description            6159 non-null   object \n",
            " 3   designation            4324 non-null   object \n",
            " 4   points                 6132 non-null   float64\n",
            " 5   price                  5737 non-null   float64\n",
            " 6   province               6156 non-null   object \n",
            " 7   region_1               5176 non-null   object \n",
            " 8   region_2               2423 non-null   object \n",
            " 9   taster_name            4910 non-null   object \n",
            " 10  taster_twitter_handle  4707 non-null   object \n",
            " 11  title                  6159 non-null   object \n",
            " 12  variety                6159 non-null   object \n",
            " 13  winery                 6159 non-null   object \n",
            "dtypes: float64(2), int64(1), object(11)\n",
            "memory usage: 673.8+ KB\n"
          ]
        }
      ]
    },
    {
      "cell_type": "code",
      "metadata": {
        "id": "QAT_ElajzM2V",
        "colab": {
          "base_uri": "https://localhost:8080/"
        },
        "outputId": "aecb7204-fa88-4211-e116-774d9d5bff09"
      },
      "source": [
        "# Find out how many nan value in every column.\n",
        "# Write your code here\n",
        "df.isna().sum()\n"
      ],
      "execution_count": null,
      "outputs": [
        {
          "output_type": "execute_result",
          "data": {
            "text/plain": [
              "Unnamed: 0                  0\n",
              "country                     3\n",
              "description                 0\n",
              "designation              1835\n",
              "points                     27\n",
              "price                     422\n",
              "province                    3\n",
              "region_1                  983\n",
              "region_2                 3736\n",
              "taster_name              1249\n",
              "taster_twitter_handle    1452\n",
              "title                       0\n",
              "variety                     0\n",
              "winery                      0\n",
              "dtype: int64"
            ]
          },
          "metadata": {},
          "execution_count": 6
        }
      ]
    },
    {
      "cell_type": "markdown",
      "metadata": {
        "id": "g90fVMsrcdRG"
      },
      "source": [
        "# 3- Drop columns \n",
        "Drop the columns (Designation, Region_2, Taster_name, Taster_twitter_handle, Title,Province)."
      ]
    },
    {
      "cell_type": "code",
      "metadata": {
        "id": "DWZPKA_B4to6"
      },
      "source": [
        "# Create columns list that you want to drop\n",
        "# Write your code here\n",
        "columns_to_drop=['designation', 'region_2', 'taster_name', 'taster_twitter_handle', 'title', 'province']\n",
        "\n",
        "# Drop the columns \n",
        "# Write your code here\n",
        "df.drop(columns=columns_to_drop, inplace = True)\n"
      ],
      "execution_count": null,
      "outputs": []
    },
    {
      "cell_type": "code",
      "metadata": {
        "id": "OgYO9hOe8Onz",
        "colab": {
          "base_uri": "https://localhost:8080/"
        },
        "outputId": "adce8155-a709-41af-c94f-88d1a25343f3"
      },
      "source": [
        "print(df)"
      ],
      "execution_count": null,
      "outputs": [
        {
          "output_type": "stream",
          "name": "stdout",
          "text": [
            "      Unnamed: 0    country  ...             variety               winery\n",
            "0              0      Italy  ...         White Blend              Nicosia\n",
            "1              1   Portugal  ...      Portuguese Red  Quinta dos Avidagos\n",
            "2              2         US  ...          Pinot Gris            Rainstorm\n",
            "3              3         US  ...            Riesling           St. Julian\n",
            "4              4         US  ...          Pinot Noir         Sweet Cheeks\n",
            "...          ...        ...  ...                 ...                  ...\n",
            "6154        6154  Australia  ...  Cabernet Sauvignon             Taltarni\n",
            "6155        6155      Chile  ...           Red Blend              Antiyal\n",
            "6156        6156     France  ...                Rosé    Mas des Bressades\n",
            "6157        6157         US  ...     Sparkling Blend         Frank Family\n",
            "6158        6158         US  ...           Zinfandel                 Hobo\n",
            "\n",
            "[6159 rows x 8 columns]\n"
          ]
        }
      ]
    },
    {
      "cell_type": "code",
      "metadata": {
        "id": "qrNJzOVUALcA",
        "colab": {
          "base_uri": "https://localhost:8080/"
        },
        "outputId": "18dd20bc-d020-4622-e481-e8886f062fc1"
      },
      "source": [
        "# Print info about the data frame\n",
        "# Write your code here\n",
        "df.info()\n"
      ],
      "execution_count": null,
      "outputs": [
        {
          "output_type": "stream",
          "name": "stdout",
          "text": [
            "<class 'pandas.core.frame.DataFrame'>\n",
            "RangeIndex: 6159 entries, 0 to 6158\n",
            "Data columns (total 8 columns):\n",
            " #   Column       Non-Null Count  Dtype  \n",
            "---  ------       --------------  -----  \n",
            " 0   Unnamed: 0   6159 non-null   int64  \n",
            " 1   country      6156 non-null   object \n",
            " 2   description  6159 non-null   object \n",
            " 3   points       6132 non-null   float64\n",
            " 4   price        5737 non-null   float64\n",
            " 5   region_1     5176 non-null   object \n",
            " 6   variety      6159 non-null   object \n",
            " 7   winery       6159 non-null   object \n",
            "dtypes: float64(2), int64(1), object(5)\n",
            "memory usage: 385.1+ KB\n"
          ]
        }
      ]
    },
    {
      "cell_type": "code",
      "metadata": {
        "id": "qq0zgchR_11h",
        "colab": {
          "base_uri": "https://localhost:8080/"
        },
        "outputId": "999992d9-1fe9-4e05-c9fb-0e887b644355"
      },
      "source": [
        "# Check the number nan values in the columns \n",
        "# Write your code here\n",
        "df.isna().sum()\n",
        " "
      ],
      "execution_count": null,
      "outputs": [
        {
          "output_type": "execute_result",
          "data": {
            "text/plain": [
              "Unnamed: 0       0\n",
              "country          3\n",
              "description      0\n",
              "points          27\n",
              "price          422\n",
              "region_1       983\n",
              "variety          0\n",
              "winery           0\n",
              "dtype: int64"
            ]
          },
          "metadata": {},
          "execution_count": 10
        }
      ]
    },
    {
      "cell_type": "markdown",
      "metadata": {
        "id": "CQn3Zb5DdROR"
      },
      "source": [
        "# 4- Fill in missing values \n",
        "Fill in missing values in (price) using the mean value of the column and in (point) using the median value of the column."
      ]
    },
    {
      "cell_type": "code",
      "metadata": {
        "id": "pmNRx4BdACeV"
      },
      "source": [
        "# Replace the nan values in the col price with hte mean\n",
        "# Write your code here\n",
        "df['price'].fillna(df['price'].mean(), inplace = True)"
      ],
      "execution_count": null,
      "outputs": []
    },
    {
      "cell_type": "code",
      "metadata": {
        "id": "L1WPNtQvhtOe"
      },
      "source": [
        "# Replace the nan values in the col points with hte mean\n",
        "# Write your code here\n",
        "df['points'].fillna(df['points'].median(), inplace = True)\n"
      ],
      "execution_count": null,
      "outputs": []
    },
    {
      "cell_type": "code",
      "metadata": {
        "id": "oeKdIkIfhc8u",
        "colab": {
          "base_uri": "https://localhost:8080/"
        },
        "outputId": "96e6d76e-d452-4050-825f-17410ceec114"
      },
      "source": [
        "# Check the number nan values in the columns \n",
        "# Write your code here\n",
        "df.isna().sum()\n"
      ],
      "execution_count": null,
      "outputs": [
        {
          "output_type": "execute_result",
          "data": {
            "text/plain": [
              "Unnamed: 0       0\n",
              "country          3\n",
              "description      0\n",
              "points           0\n",
              "price            0\n",
              "region_1       983\n",
              "variety          0\n",
              "winery           0\n",
              "dtype: int64"
            ]
          },
          "metadata": {},
          "execution_count": 13
        }
      ]
    },
    {
      "cell_type": "code",
      "metadata": {
        "id": "jU25_xx1mtr3",
        "colab": {
          "base_uri": "https://localhost:8080/"
        },
        "outputId": "8f6841d3-997b-4790-a759-1ea19e1e9e65"
      },
      "source": [
        "# Print the info od the DataFrame\n",
        "# Write your code here\n",
        "df.info()\n"
      ],
      "execution_count": null,
      "outputs": [
        {
          "output_type": "stream",
          "name": "stdout",
          "text": [
            "<class 'pandas.core.frame.DataFrame'>\n",
            "RangeIndex: 6159 entries, 0 to 6158\n",
            "Data columns (total 8 columns):\n",
            " #   Column       Non-Null Count  Dtype  \n",
            "---  ------       --------------  -----  \n",
            " 0   Unnamed: 0   6159 non-null   int64  \n",
            " 1   country      6156 non-null   object \n",
            " 2   description  6159 non-null   object \n",
            " 3   points       6159 non-null   float64\n",
            " 4   price        6159 non-null   float64\n",
            " 5   region_1     5176 non-null   object \n",
            " 6   variety      6159 non-null   object \n",
            " 7   winery       6159 non-null   object \n",
            "dtypes: float64(2), int64(1), object(5)\n",
            "memory usage: 385.1+ KB\n"
          ]
        }
      ]
    },
    {
      "cell_type": "markdown",
      "source": [
        "# 5- Drop the rows that have missing values in the flowing columns (description, region_1, variety, country, winery)\n",
        "\n"
      ],
      "metadata": {
        "id": "9c6QKNU12eYw"
      }
    },
    {
      "cell_type": "code",
      "source": [
        "# Drop the rows that have missing values \n",
        "# Write your code here\n",
        "df.dropna(axis = 0, subset=['description', 'region_1', 'variety', 'winery', 'country'], inplace = True)\n"
      ],
      "metadata": {
        "id": "TUlMljN62ddN"
      },
      "execution_count": null,
      "outputs": []
    },
    {
      "cell_type": "code",
      "source": [
        "df.info()"
      ],
      "metadata": {
        "id": "E0TK95UJ2saB",
        "colab": {
          "base_uri": "https://localhost:8080/"
        },
        "outputId": "97c3434c-67c6-4009-9a2d-a7a4243ff1b0"
      },
      "execution_count": null,
      "outputs": [
        {
          "output_type": "stream",
          "name": "stdout",
          "text": [
            "<class 'pandas.core.frame.DataFrame'>\n",
            "Int64Index: 5176 entries, 0 to 6158\n",
            "Data columns (total 8 columns):\n",
            " #   Column       Non-Null Count  Dtype  \n",
            "---  ------       --------------  -----  \n",
            " 0   Unnamed: 0   5176 non-null   int64  \n",
            " 1   country      5176 non-null   object \n",
            " 2   description  5176 non-null   object \n",
            " 3   points       5176 non-null   float64\n",
            " 4   price        5176 non-null   float64\n",
            " 5   region_1     5176 non-null   object \n",
            " 6   variety      5176 non-null   object \n",
            " 7   winery       5176 non-null   object \n",
            "dtypes: float64(2), int64(1), object(5)\n",
            "memory usage: 363.9+ KB\n"
          ]
        }
      ]
    },
    {
      "cell_type": "markdown",
      "source": [
        "# 6- Convert the text to integer vector in column (description)"
      ],
      "metadata": {
        "id": "faDBQmRE247f"
      }
    },
    {
      "cell_type": "code",
      "source": [
        "# Create the text dataset for the Tokenizer   \n",
        "text= ' '.join(df.description)"
      ],
      "metadata": {
        "id": "wHyrOXrqN3vR"
      },
      "execution_count": null,
      "outputs": []
    },
    {
      "cell_type": "code",
      "source": [
        "# Create the Tokenizer \n",
        "\n",
        "class Tokenizer:\n",
        "\n",
        "    def __init__(\n",
        "        self,\n",
        "        row_text,\n",
        "        filters='!\"#$%&()*+,-./:;<=>?@[\\\\]^_`{|}~\\t\\n',\n",
        "        oov='<OOV>',\n",
        "        ):\n",
        "        \"\"\"\n",
        "        The __init__ method  of the class Tokenizer will get the following parameters\n",
        "        row_text : the input text that we wnat to create the tokenizer from it.\n",
        "        filters : a string where each element is a character that will be filtered from the texts. \n",
        "        The default is all punctuation, plus tabs and line breaks, minus the ' character.\n",
        "        oov : if given, it will be added to word_index and used to replace out-of-vocabulary words during text_to_sequence calls\n",
        "        \"\"\"\n",
        "\n",
        "        self.row_text = row_text\n",
        "        self.filters = filters\n",
        "        self.oov = oov\n",
        "\n",
        "        # create the word to index and index to word dictionaries using the tokenizer method\n",
        "\n",
        "        (self.word_index, self.index_word) = self.tokenizer(self.row_text)\n",
        "\n",
        "    def clean_text(self, text):\n",
        "        \"\"\"\n",
        "        The clean_text method will take one parameter text \n",
        "        then the method will clean the text data \n",
        "        and return clean text\n",
        "        \"\"\"\n",
        "\n",
        "        text = text.lower()  # convert the texts to lowercase.\n",
        "\n",
        "        # clean the text\n",
        "\n",
        "        for i in self.filters:\n",
        "            text = text.replace(i, ' ')\n",
        "\n",
        "        return text  # return the clean text\n",
        "\n",
        "    def tokenizer(self, text):\n",
        "        \"\"\"\n",
        "        The tokenizer method will take one parameter text \n",
        "        then the method will clean the text data. \n",
        "        extricate the unique words the method will return two dictionaries contains the unique word to index and the reverse of it.\n",
        "        \"\"\"\n",
        "\n",
        "        # create the word to index dictionary\n",
        "\n",
        "        word_index = {}\n",
        "\n",
        "        # create the index to word dictionary\n",
        "\n",
        "        index_word = {}\n",
        "\n",
        "        # add the oov to the word to index & the index to word  dictionaries\n",
        "\n",
        "        word_index[self.oov] = 0\n",
        "        index_word[0] = self.oov\n",
        "\n",
        "        # clean the text\n",
        "\n",
        "        text = self.clean_text(text)\n",
        "\n",
        "        # extract the unique values\n",
        "\n",
        "        unique_words = list(set(text.split()))\n",
        "\n",
        "        # convert the word to index and the reverse of it\n",
        "\n",
        "        for (index, word) in enumerate(unique_words):\n",
        "            word_index[word] = index + 1\n",
        "            index_word[index + 1] = word\n",
        "\n",
        "        # return word to index and the indeex to word dictionaries\n",
        "\n",
        "        return (word_index, index_word)\n",
        "\n",
        "    def tokenize(self, text):\n",
        "        \"\"\"\n",
        "        the method tokenize will convert text to vector \n",
        "        text: the text paramater it's for the text that you want to convert to list of numbers\n",
        "        \"\"\"\n",
        "\n",
        "        # create empty  list\n",
        "\n",
        "        vector = []\n",
        "\n",
        "        # clean the text\n",
        "\n",
        "        text = self.clean_text(text)\n",
        "\n",
        "        # split the text to words\n",
        "\n",
        "        word_list = text.split()\n",
        "\n",
        "        # convert the word list to\n",
        "\n",
        "        for word in word_list:\n",
        "            try:\n",
        "                vector.append(self.word_index[word])\n",
        "            except:\n",
        "                vector.append(self.word_index[self.oov])\n",
        "\n",
        "        # return the  vector\n",
        "\n",
        "        return vector\n",
        "\n",
        "    def reverse_tokenize(self, vector):\n",
        "        \"\"\"\n",
        "        the method reverse_tokenize will convert vector  to text\n",
        "        word_vector: the word_vector paramater it's for the list of number that you want to convert to string\n",
        "\n",
        "        \"\"\"\n",
        "\n",
        "        word_list = []\n",
        "\n",
        "        # convert from word_vector to string\n",
        "\n",
        "        for index in vector:\n",
        "            try:\n",
        "                word_list.append(self.index_word[index])\n",
        "            except:\n",
        "\n",
        "                word_list.append(self.index_word[self.oov])\n",
        "            text = ' '.join(word_list)\n",
        "\n",
        "        # return the string\n",
        "\n",
        "        return text"
      ],
      "metadata": {
        "id": "wJSIj9i6OUf1"
      },
      "execution_count": null,
      "outputs": []
    },
    {
      "cell_type": "code",
      "source": [
        "# Write function that replace every text in the description column to vector of integers\n",
        "# Note use the Tokenizer \n",
        "# Write your code here\n",
        "X = Tokenizer(text)\n",
        "description_vector = []\n",
        "for i in df['description']:\n",
        "  description_vector.append(X.tokenize(i))\n",
        "\n",
        "df['description'] = description_vector"
      ],
      "metadata": {
        "id": "sQQOQli624MB"
      },
      "execution_count": null,
      "outputs": []
    },
    {
      "cell_type": "markdown",
      "metadata": {
        "id": "96f9FQdqc-eM"
      },
      "source": [
        "# 7- Convert text values to numerical values"
      ]
    },
    {
      "cell_type": "code",
      "metadata": {
        "id": "JV7L_x0hhftW"
      },
      "source": [
        "# Create function that return two dictionary word to index and the other index to word \n",
        "def string_to_numerics(column):\n",
        "  \n",
        "  word_index = {}\n",
        "  index_word = {}\n",
        "\n",
        "  # Get the unique words\n",
        "  # Write your code here\n",
        "  unique = list(set(column))  \n",
        "  for (index, word) in enumerate(unique):\n",
        "            word_index[word] = index + 1\n",
        "            index_word[index + 1] = word\n",
        "\n",
        "  # Return word to index & index to word\n",
        "  return word_index, index_word"
      ],
      "execution_count": null,
      "outputs": []
    },
    {
      "cell_type": "code",
      "metadata": {
        "id": "jpUw0avFbDwX"
      },
      "source": [
        "# Create the string to numerics for the country col\n",
        "# Write your code here\n",
        "country_col = string_to_numerics(df['country'])[0]\n",
        "\n",
        "# Replace the string to numeric\n",
        "# Write your code here\n",
        "for i in country_col:\n",
        "  if i == 'us':\n",
        "    df['country'] = df['country'].replace(i.upper(), country_col[i])\n",
        "  else:  \n",
        "    df['country'] = df['country'].replace(i, country_col[i])"
      ],
      "execution_count": null,
      "outputs": []
    },
    {
      "cell_type": "code",
      "metadata": {
        "id": "ymKxmzLHtOeM"
      },
      "source": [
        "# Create the string to numerics for the variety col\n",
        "# Write your code here\n",
        "variety_col = string_to_numerics(df['variety'])[0]\n",
        "\n",
        "# Replace the string to numeric \n",
        "# Write your code here\n",
        "for i in variety_col:\n",
        "  df['variety'] = df['variety'].replace(i, variety_col[i])"
      ],
      "execution_count": null,
      "outputs": []
    },
    {
      "cell_type": "code",
      "metadata": {
        "id": "ABEKX0tOtprs"
      },
      "source": [
        "# Create the string to numerics for the winery col\n",
        "# Write your code here\n",
        "winery_col = string_to_numerics(df['winery'])[0]\n",
        "\n",
        "# Replace the string to numeric \n",
        "# Write your code here\n",
        "for i in winery_col:\n",
        "  df['winery'] = df['winery'].replace(i, winery_col[i])"
      ],
      "execution_count": null,
      "outputs": []
    },
    {
      "cell_type": "code",
      "metadata": {
        "id": "KnPwomHJbkU-"
      },
      "source": [
        "# Create the string to numerics for the region_1 col\n",
        "# Write your code here\n",
        "region_1_col = string_to_numerics(df['region_1'])[0]\n",
        "\n",
        "# Replace the string to numeric \n",
        "# Write your code here\n",
        "for i in region_1_col:\n",
        "  df['region_1'] = df['region_1'].replace(i, region_1_col[i])"
      ],
      "execution_count": null,
      "outputs": []
    },
    {
      "cell_type": "code",
      "source": [
        "df"
      ],
      "metadata": {
        "colab": {
          "base_uri": "https://localhost:8080/",
          "height": 424
        },
        "id": "tD1K7F6A9mLZ",
        "outputId": "e4014e2a-0342-438b-ac0d-61d275b0f855"
      },
      "execution_count": null,
      "outputs": [
        {
          "output_type": "execute_result",
          "data": {
            "text/html": [
              "\n",
              "  <div id=\"df-25469ae7-6490-4c30-b2d2-abf985bd1351\">\n",
              "    <div class=\"colab-df-container\">\n",
              "      <div>\n",
              "<style scoped>\n",
              "    .dataframe tbody tr th:only-of-type {\n",
              "        vertical-align: middle;\n",
              "    }\n",
              "\n",
              "    .dataframe tbody tr th {\n",
              "        vertical-align: top;\n",
              "    }\n",
              "\n",
              "    .dataframe thead th {\n",
              "        text-align: right;\n",
              "    }\n",
              "</style>\n",
              "<table border=\"1\" class=\"dataframe\">\n",
              "  <thead>\n",
              "    <tr style=\"text-align: right;\">\n",
              "      <th></th>\n",
              "      <th>Unnamed: 0</th>\n",
              "      <th>country</th>\n",
              "      <th>description</th>\n",
              "      <th>points</th>\n",
              "      <th>price</th>\n",
              "      <th>region_1</th>\n",
              "      <th>variety</th>\n",
              "      <th>winery</th>\n",
              "    </tr>\n",
              "  </thead>\n",
              "  <tbody>\n",
              "    <tr>\n",
              "      <th>0</th>\n",
              "      <td>0</td>\n",
              "      <td>7</td>\n",
              "      <td>[1003, 1991, 5016, 3751, 7564, 3282, 5642, 348...</td>\n",
              "      <td>87.0</td>\n",
              "      <td>34.633781</td>\n",
              "      <td>542</td>\n",
              "      <td>119</td>\n",
              "      <td>2801</td>\n",
              "    </tr>\n",
              "    <tr>\n",
              "      <th>2</th>\n",
              "      <td>2</td>\n",
              "      <td>2</td>\n",
              "      <td>[766, 5642, 6387, 322, 5543, 7521, 6212, 1384,...</td>\n",
              "      <td>87.0</td>\n",
              "      <td>14.000000</td>\n",
              "      <td>557</td>\n",
              "      <td>211</td>\n",
              "      <td>732</td>\n",
              "    </tr>\n",
              "    <tr>\n",
              "      <th>3</th>\n",
              "      <td>3</td>\n",
              "      <td>2</td>\n",
              "      <td>[2968, 6302, 4722, 1215, 5642, 7437, 3597, 689...</td>\n",
              "      <td>87.0</td>\n",
              "      <td>13.000000</td>\n",
              "      <td>131</td>\n",
              "      <td>191</td>\n",
              "      <td>587</td>\n",
              "    </tr>\n",
              "    <tr>\n",
              "      <th>4</th>\n",
              "      <td>4</td>\n",
              "      <td>2</td>\n",
              "      <td>[7351, 1577, 322, 5125, 4916, 1441, 3983, 8196...</td>\n",
              "      <td>87.0</td>\n",
              "      <td>65.000000</td>\n",
              "      <td>557</td>\n",
              "      <td>70</td>\n",
              "      <td>789</td>\n",
              "    </tr>\n",
              "    <tr>\n",
              "      <th>5</th>\n",
              "      <td>5</td>\n",
              "      <td>4</td>\n",
              "      <td>[8766, 5642, 4423, 1003, 50, 5289, 2018, 8276,...</td>\n",
              "      <td>87.0</td>\n",
              "      <td>15.000000</td>\n",
              "      <td>275</td>\n",
              "      <td>96</td>\n",
              "      <td>2927</td>\n",
              "    </tr>\n",
              "    <tr>\n",
              "      <th>...</th>\n",
              "      <td>...</td>\n",
              "      <td>...</td>\n",
              "      <td>...</td>\n",
              "      <td>...</td>\n",
              "      <td>...</td>\n",
              "      <td>...</td>\n",
              "      <td>...</td>\n",
              "      <td>...</td>\n",
              "    </tr>\n",
              "    <tr>\n",
              "      <th>6152</th>\n",
              "      <td>6152</td>\n",
              "      <td>3</td>\n",
              "      <td>[8196, 4187, 7759, 7882, 3386, 1758, 322, 8915...</td>\n",
              "      <td>89.0</td>\n",
              "      <td>34.633781</td>\n",
              "      <td>424</td>\n",
              "      <td>82</td>\n",
              "      <td>1591</td>\n",
              "    </tr>\n",
              "    <tr>\n",
              "      <th>6154</th>\n",
              "      <td>6154</td>\n",
              "      <td>5</td>\n",
              "      <td>[322, 2942, 8055, 1694, 1183, 3211, 797, 4034,...</td>\n",
              "      <td>89.0</td>\n",
              "      <td>32.000000</td>\n",
              "      <td>12</td>\n",
              "      <td>8</td>\n",
              "      <td>429</td>\n",
              "    </tr>\n",
              "    <tr>\n",
              "      <th>6156</th>\n",
              "      <td>6156</td>\n",
              "      <td>3</td>\n",
              "      <td>[2299, 1354, 5757, 1459, 1826, 5289, 3050, 136...</td>\n",
              "      <td>89.0</td>\n",
              "      <td>13.000000</td>\n",
              "      <td>340</td>\n",
              "      <td>31</td>\n",
              "      <td>1161</td>\n",
              "    </tr>\n",
              "    <tr>\n",
              "      <th>6157</th>\n",
              "      <td>6157</td>\n",
              "      <td>2</td>\n",
              "      <td>[1758, 5289, 885, 8616, 7709, 8196, 3984, 7753...</td>\n",
              "      <td>89.0</td>\n",
              "      <td>35.000000</td>\n",
              "      <td>379</td>\n",
              "      <td>183</td>\n",
              "      <td>3070</td>\n",
              "    </tr>\n",
              "    <tr>\n",
              "      <th>6158</th>\n",
              "      <td>6158</td>\n",
              "      <td>2</td>\n",
              "      <td>[2166, 5642, 2349, 8196, 899, 5289, 920, 1365,...</td>\n",
              "      <td>89.0</td>\n",
              "      <td>25.000000</td>\n",
              "      <td>416</td>\n",
              "      <td>164</td>\n",
              "      <td>2827</td>\n",
              "    </tr>\n",
              "  </tbody>\n",
              "</table>\n",
              "<p>5176 rows × 8 columns</p>\n",
              "</div>\n",
              "      <button class=\"colab-df-convert\" onclick=\"convertToInteractive('df-25469ae7-6490-4c30-b2d2-abf985bd1351')\"\n",
              "              title=\"Convert this dataframe to an interactive table.\"\n",
              "              style=\"display:none;\">\n",
              "        \n",
              "  <svg xmlns=\"http://www.w3.org/2000/svg\" height=\"24px\"viewBox=\"0 0 24 24\"\n",
              "       width=\"24px\">\n",
              "    <path d=\"M0 0h24v24H0V0z\" fill=\"none\"/>\n",
              "    <path d=\"M18.56 5.44l.94 2.06.94-2.06 2.06-.94-2.06-.94-.94-2.06-.94 2.06-2.06.94zm-11 1L8.5 8.5l.94-2.06 2.06-.94-2.06-.94L8.5 2.5l-.94 2.06-2.06.94zm10 10l.94 2.06.94-2.06 2.06-.94-2.06-.94-.94-2.06-.94 2.06-2.06.94z\"/><path d=\"M17.41 7.96l-1.37-1.37c-.4-.4-.92-.59-1.43-.59-.52 0-1.04.2-1.43.59L10.3 9.45l-7.72 7.72c-.78.78-.78 2.05 0 2.83L4 21.41c.39.39.9.59 1.41.59.51 0 1.02-.2 1.41-.59l7.78-7.78 2.81-2.81c.8-.78.8-2.07 0-2.86zM5.41 20L4 18.59l7.72-7.72 1.47 1.35L5.41 20z\"/>\n",
              "  </svg>\n",
              "      </button>\n",
              "      \n",
              "  <style>\n",
              "    .colab-df-container {\n",
              "      display:flex;\n",
              "      flex-wrap:wrap;\n",
              "      gap: 12px;\n",
              "    }\n",
              "\n",
              "    .colab-df-convert {\n",
              "      background-color: #E8F0FE;\n",
              "      border: none;\n",
              "      border-radius: 50%;\n",
              "      cursor: pointer;\n",
              "      display: none;\n",
              "      fill: #1967D2;\n",
              "      height: 32px;\n",
              "      padding: 0 0 0 0;\n",
              "      width: 32px;\n",
              "    }\n",
              "\n",
              "    .colab-df-convert:hover {\n",
              "      background-color: #E2EBFA;\n",
              "      box-shadow: 0px 1px 2px rgba(60, 64, 67, 0.3), 0px 1px 3px 1px rgba(60, 64, 67, 0.15);\n",
              "      fill: #174EA6;\n",
              "    }\n",
              "\n",
              "    [theme=dark] .colab-df-convert {\n",
              "      background-color: #3B4455;\n",
              "      fill: #D2E3FC;\n",
              "    }\n",
              "\n",
              "    [theme=dark] .colab-df-convert:hover {\n",
              "      background-color: #434B5C;\n",
              "      box-shadow: 0px 1px 3px 1px rgba(0, 0, 0, 0.15);\n",
              "      filter: drop-shadow(0px 1px 2px rgba(0, 0, 0, 0.3));\n",
              "      fill: #FFFFFF;\n",
              "    }\n",
              "  </style>\n",
              "\n",
              "      <script>\n",
              "        const buttonEl =\n",
              "          document.querySelector('#df-25469ae7-6490-4c30-b2d2-abf985bd1351 button.colab-df-convert');\n",
              "        buttonEl.style.display =\n",
              "          google.colab.kernel.accessAllowed ? 'block' : 'none';\n",
              "\n",
              "        async function convertToInteractive(key) {\n",
              "          const element = document.querySelector('#df-25469ae7-6490-4c30-b2d2-abf985bd1351');\n",
              "          const dataTable =\n",
              "            await google.colab.kernel.invokeFunction('convertToInteractive',\n",
              "                                                     [key], {});\n",
              "          if (!dataTable) return;\n",
              "\n",
              "          const docLinkHtml = 'Like what you see? Visit the ' +\n",
              "            '<a target=\"_blank\" href=https://colab.research.google.com/notebooks/data_table.ipynb>data table notebook</a>'\n",
              "            + ' to learn more about interactive tables.';\n",
              "          element.innerHTML = '';\n",
              "          dataTable['output_type'] = 'display_data';\n",
              "          await google.colab.output.renderOutput(dataTable, element);\n",
              "          const docLink = document.createElement('div');\n",
              "          docLink.innerHTML = docLinkHtml;\n",
              "          element.appendChild(docLink);\n",
              "        }\n",
              "      </script>\n",
              "    </div>\n",
              "  </div>\n",
              "  "
            ],
            "text/plain": [
              "      Unnamed: 0  country  ... variety  winery\n",
              "0              0        7  ...     119    2801\n",
              "2              2        2  ...     211     732\n",
              "3              3        2  ...     191     587\n",
              "4              4        2  ...      70     789\n",
              "5              5        4  ...      96    2927\n",
              "...          ...      ...  ...     ...     ...\n",
              "6152        6152        3  ...      82    1591\n",
              "6154        6154        5  ...       8     429\n",
              "6156        6156        3  ...      31    1161\n",
              "6157        6157        2  ...     183    3070\n",
              "6158        6158        2  ...     164    2827\n",
              "\n",
              "[5176 rows x 8 columns]"
            ]
          },
          "metadata": {},
          "execution_count": 25
        }
      ]
    },
    {
      "cell_type": "markdown",
      "metadata": {
        "id": "LzgRtR7BXkei"
      },
      "source": [
        "#Split tha Dataset to x,y "
      ]
    },
    {
      "cell_type": "markdown",
      "metadata": {
        "id": "QzuRkHd1doki"
      },
      "source": [
        "# 8- Split the data into inputs/features (x) and output/target ( y )."
      ]
    },
    {
      "cell_type": "code",
      "metadata": {
        "id": "slFKTxB1mVfF"
      },
      "source": [
        "# Create y\n",
        "# Write your code here\n",
        "y = df['winery']\n"
      ],
      "execution_count": null,
      "outputs": []
    },
    {
      "cell_type": "code",
      "metadata": {
        "id": "AgRS47ZXqdje",
        "colab": {
          "base_uri": "https://localhost:8080/"
        },
        "outputId": "68435a46-3d49-47d6-dbb4-632955c17c03"
      },
      "source": [
        "# Convert the data type of y to int64\n",
        "# Write your code here\n",
        "y = y.astype('int64')\n",
        "\n",
        "y"
      ],
      "execution_count": null,
      "outputs": [
        {
          "output_type": "execute_result",
          "data": {
            "text/plain": [
              "0       2801\n",
              "2        732\n",
              "3        587\n",
              "4        789\n",
              "5       2927\n",
              "        ... \n",
              "6152    1591\n",
              "6154     429\n",
              "6156    1161\n",
              "6157    3070\n",
              "6158    2827\n",
              "Name: winery, Length: 5176, dtype: int64"
            ]
          },
          "metadata": {},
          "execution_count": 27
        }
      ]
    },
    {
      "cell_type": "code",
      "metadata": {
        "id": "ytPpRplSrucm",
        "colab": {
          "base_uri": "https://localhost:8080/",
          "height": 424
        },
        "outputId": "e8022695-4be2-44fd-c740-604a1754581c"
      },
      "source": [
        "# Create x \n",
        "# Write your code here\n",
        "x = df[['country', 'description',\t'points',\t'price', 'region_1', 'variety']]\n",
        "\n",
        "x"
      ],
      "execution_count": null,
      "outputs": [
        {
          "output_type": "execute_result",
          "data": {
            "text/html": [
              "\n",
              "  <div id=\"df-e05deed1-4002-4c50-9a46-ed0fdcd3f3df\">\n",
              "    <div class=\"colab-df-container\">\n",
              "      <div>\n",
              "<style scoped>\n",
              "    .dataframe tbody tr th:only-of-type {\n",
              "        vertical-align: middle;\n",
              "    }\n",
              "\n",
              "    .dataframe tbody tr th {\n",
              "        vertical-align: top;\n",
              "    }\n",
              "\n",
              "    .dataframe thead th {\n",
              "        text-align: right;\n",
              "    }\n",
              "</style>\n",
              "<table border=\"1\" class=\"dataframe\">\n",
              "  <thead>\n",
              "    <tr style=\"text-align: right;\">\n",
              "      <th></th>\n",
              "      <th>country</th>\n",
              "      <th>description</th>\n",
              "      <th>points</th>\n",
              "      <th>price</th>\n",
              "      <th>region_1</th>\n",
              "      <th>variety</th>\n",
              "    </tr>\n",
              "  </thead>\n",
              "  <tbody>\n",
              "    <tr>\n",
              "      <th>0</th>\n",
              "      <td>7</td>\n",
              "      <td>[1003, 1991, 5016, 3751, 7564, 3282, 5642, 348...</td>\n",
              "      <td>87.0</td>\n",
              "      <td>34.633781</td>\n",
              "      <td>542</td>\n",
              "      <td>119</td>\n",
              "    </tr>\n",
              "    <tr>\n",
              "      <th>2</th>\n",
              "      <td>2</td>\n",
              "      <td>[766, 5642, 6387, 322, 5543, 7521, 6212, 1384,...</td>\n",
              "      <td>87.0</td>\n",
              "      <td>14.000000</td>\n",
              "      <td>557</td>\n",
              "      <td>211</td>\n",
              "    </tr>\n",
              "    <tr>\n",
              "      <th>3</th>\n",
              "      <td>2</td>\n",
              "      <td>[2968, 6302, 4722, 1215, 5642, 7437, 3597, 689...</td>\n",
              "      <td>87.0</td>\n",
              "      <td>13.000000</td>\n",
              "      <td>131</td>\n",
              "      <td>191</td>\n",
              "    </tr>\n",
              "    <tr>\n",
              "      <th>4</th>\n",
              "      <td>2</td>\n",
              "      <td>[7351, 1577, 322, 5125, 4916, 1441, 3983, 8196...</td>\n",
              "      <td>87.0</td>\n",
              "      <td>65.000000</td>\n",
              "      <td>557</td>\n",
              "      <td>70</td>\n",
              "    </tr>\n",
              "    <tr>\n",
              "      <th>5</th>\n",
              "      <td>4</td>\n",
              "      <td>[8766, 5642, 4423, 1003, 50, 5289, 2018, 8276,...</td>\n",
              "      <td>87.0</td>\n",
              "      <td>15.000000</td>\n",
              "      <td>275</td>\n",
              "      <td>96</td>\n",
              "    </tr>\n",
              "    <tr>\n",
              "      <th>...</th>\n",
              "      <td>...</td>\n",
              "      <td>...</td>\n",
              "      <td>...</td>\n",
              "      <td>...</td>\n",
              "      <td>...</td>\n",
              "      <td>...</td>\n",
              "    </tr>\n",
              "    <tr>\n",
              "      <th>6152</th>\n",
              "      <td>3</td>\n",
              "      <td>[8196, 4187, 7759, 7882, 3386, 1758, 322, 8915...</td>\n",
              "      <td>89.0</td>\n",
              "      <td>34.633781</td>\n",
              "      <td>424</td>\n",
              "      <td>82</td>\n",
              "    </tr>\n",
              "    <tr>\n",
              "      <th>6154</th>\n",
              "      <td>5</td>\n",
              "      <td>[322, 2942, 8055, 1694, 1183, 3211, 797, 4034,...</td>\n",
              "      <td>89.0</td>\n",
              "      <td>32.000000</td>\n",
              "      <td>12</td>\n",
              "      <td>8</td>\n",
              "    </tr>\n",
              "    <tr>\n",
              "      <th>6156</th>\n",
              "      <td>3</td>\n",
              "      <td>[2299, 1354, 5757, 1459, 1826, 5289, 3050, 136...</td>\n",
              "      <td>89.0</td>\n",
              "      <td>13.000000</td>\n",
              "      <td>340</td>\n",
              "      <td>31</td>\n",
              "    </tr>\n",
              "    <tr>\n",
              "      <th>6157</th>\n",
              "      <td>2</td>\n",
              "      <td>[1758, 5289, 885, 8616, 7709, 8196, 3984, 7753...</td>\n",
              "      <td>89.0</td>\n",
              "      <td>35.000000</td>\n",
              "      <td>379</td>\n",
              "      <td>183</td>\n",
              "    </tr>\n",
              "    <tr>\n",
              "      <th>6158</th>\n",
              "      <td>2</td>\n",
              "      <td>[2166, 5642, 2349, 8196, 899, 5289, 920, 1365,...</td>\n",
              "      <td>89.0</td>\n",
              "      <td>25.000000</td>\n",
              "      <td>416</td>\n",
              "      <td>164</td>\n",
              "    </tr>\n",
              "  </tbody>\n",
              "</table>\n",
              "<p>5176 rows × 6 columns</p>\n",
              "</div>\n",
              "      <button class=\"colab-df-convert\" onclick=\"convertToInteractive('df-e05deed1-4002-4c50-9a46-ed0fdcd3f3df')\"\n",
              "              title=\"Convert this dataframe to an interactive table.\"\n",
              "              style=\"display:none;\">\n",
              "        \n",
              "  <svg xmlns=\"http://www.w3.org/2000/svg\" height=\"24px\"viewBox=\"0 0 24 24\"\n",
              "       width=\"24px\">\n",
              "    <path d=\"M0 0h24v24H0V0z\" fill=\"none\"/>\n",
              "    <path d=\"M18.56 5.44l.94 2.06.94-2.06 2.06-.94-2.06-.94-.94-2.06-.94 2.06-2.06.94zm-11 1L8.5 8.5l.94-2.06 2.06-.94-2.06-.94L8.5 2.5l-.94 2.06-2.06.94zm10 10l.94 2.06.94-2.06 2.06-.94-2.06-.94-.94-2.06-.94 2.06-2.06.94z\"/><path d=\"M17.41 7.96l-1.37-1.37c-.4-.4-.92-.59-1.43-.59-.52 0-1.04.2-1.43.59L10.3 9.45l-7.72 7.72c-.78.78-.78 2.05 0 2.83L4 21.41c.39.39.9.59 1.41.59.51 0 1.02-.2 1.41-.59l7.78-7.78 2.81-2.81c.8-.78.8-2.07 0-2.86zM5.41 20L4 18.59l7.72-7.72 1.47 1.35L5.41 20z\"/>\n",
              "  </svg>\n",
              "      </button>\n",
              "      \n",
              "  <style>\n",
              "    .colab-df-container {\n",
              "      display:flex;\n",
              "      flex-wrap:wrap;\n",
              "      gap: 12px;\n",
              "    }\n",
              "\n",
              "    .colab-df-convert {\n",
              "      background-color: #E8F0FE;\n",
              "      border: none;\n",
              "      border-radius: 50%;\n",
              "      cursor: pointer;\n",
              "      display: none;\n",
              "      fill: #1967D2;\n",
              "      height: 32px;\n",
              "      padding: 0 0 0 0;\n",
              "      width: 32px;\n",
              "    }\n",
              "\n",
              "    .colab-df-convert:hover {\n",
              "      background-color: #E2EBFA;\n",
              "      box-shadow: 0px 1px 2px rgba(60, 64, 67, 0.3), 0px 1px 3px 1px rgba(60, 64, 67, 0.15);\n",
              "      fill: #174EA6;\n",
              "    }\n",
              "\n",
              "    [theme=dark] .colab-df-convert {\n",
              "      background-color: #3B4455;\n",
              "      fill: #D2E3FC;\n",
              "    }\n",
              "\n",
              "    [theme=dark] .colab-df-convert:hover {\n",
              "      background-color: #434B5C;\n",
              "      box-shadow: 0px 1px 3px 1px rgba(0, 0, 0, 0.15);\n",
              "      filter: drop-shadow(0px 1px 2px rgba(0, 0, 0, 0.3));\n",
              "      fill: #FFFFFF;\n",
              "    }\n",
              "  </style>\n",
              "\n",
              "      <script>\n",
              "        const buttonEl =\n",
              "          document.querySelector('#df-e05deed1-4002-4c50-9a46-ed0fdcd3f3df button.colab-df-convert');\n",
              "        buttonEl.style.display =\n",
              "          google.colab.kernel.accessAllowed ? 'block' : 'none';\n",
              "\n",
              "        async function convertToInteractive(key) {\n",
              "          const element = document.querySelector('#df-e05deed1-4002-4c50-9a46-ed0fdcd3f3df');\n",
              "          const dataTable =\n",
              "            await google.colab.kernel.invokeFunction('convertToInteractive',\n",
              "                                                     [key], {});\n",
              "          if (!dataTable) return;\n",
              "\n",
              "          const docLinkHtml = 'Like what you see? Visit the ' +\n",
              "            '<a target=\"_blank\" href=https://colab.research.google.com/notebooks/data_table.ipynb>data table notebook</a>'\n",
              "            + ' to learn more about interactive tables.';\n",
              "          element.innerHTML = '';\n",
              "          dataTable['output_type'] = 'display_data';\n",
              "          await google.colab.output.renderOutput(dataTable, element);\n",
              "          const docLink = document.createElement('div');\n",
              "          docLink.innerHTML = docLinkHtml;\n",
              "          element.appendChild(docLink);\n",
              "        }\n",
              "      </script>\n",
              "    </div>\n",
              "  </div>\n",
              "  "
            ],
            "text/plain": [
              "      country  ... variety\n",
              "0           7  ...     119\n",
              "2           2  ...     211\n",
              "3           2  ...     191\n",
              "4           2  ...      70\n",
              "5           4  ...      96\n",
              "...       ...  ...     ...\n",
              "6152        3  ...      82\n",
              "6154        5  ...       8\n",
              "6156        3  ...      31\n",
              "6157        2  ...     183\n",
              "6158        2  ...     164\n",
              "\n",
              "[5176 rows x 6 columns]"
            ]
          },
          "metadata": {},
          "execution_count": 28
        }
      ]
    },
    {
      "cell_type": "code",
      "metadata": {
        "id": "4WPbzlfTuHy7",
        "colab": {
          "base_uri": "https://localhost:8080/"
        },
        "outputId": "382b11c4-4649-4b72-d569-1f0cad39df36"
      },
      "source": [
        "# Convert the dtype of points to int64\n",
        "# Write your code here\n",
        "x['points'] = x['points'].astype('int64')\n"
      ],
      "execution_count": null,
      "outputs": [
        {
          "output_type": "stream",
          "name": "stderr",
          "text": [
            "/usr/local/lib/python3.7/dist-packages/ipykernel_launcher.py:3: SettingWithCopyWarning: \n",
            "A value is trying to be set on a copy of a slice from a DataFrame.\n",
            "Try using .loc[row_indexer,col_indexer] = value instead\n",
            "\n",
            "See the caveats in the documentation: https://pandas.pydata.org/pandas-docs/stable/user_guide/indexing.html#returning-a-view-versus-a-copy\n",
            "  This is separate from the ipykernel package so we can avoid doing imports until\n"
          ]
        }
      ]
    },
    {
      "cell_type": "code",
      "metadata": {
        "id": "GxPvKG2ZubIk",
        "colab": {
          "base_uri": "https://localhost:8080/"
        },
        "outputId": "7dc4141a-56c8-4ba6-8915-74dee54e51f5"
      },
      "source": [
        "x.info()"
      ],
      "execution_count": null,
      "outputs": [
        {
          "output_type": "stream",
          "name": "stdout",
          "text": [
            "<class 'pandas.core.frame.DataFrame'>\n",
            "Int64Index: 5176 entries, 0 to 6158\n",
            "Data columns (total 6 columns):\n",
            " #   Column       Non-Null Count  Dtype  \n",
            "---  ------       --------------  -----  \n",
            " 0   country      5176 non-null   int64  \n",
            " 1   description  5176 non-null   object \n",
            " 2   points       5176 non-null   int64  \n",
            " 3   price        5176 non-null   float64\n",
            " 4   region_1     5176 non-null   int64  \n",
            " 5   variety      5176 non-null   int64  \n",
            "dtypes: float64(1), int64(4), object(1)\n",
            "memory usage: 283.1+ KB\n"
          ]
        }
      ]
    },
    {
      "cell_type": "markdown",
      "metadata": {
        "id": "2u9Lf11Pd7yy"
      },
      "source": [
        "# 9-Print the Describe  and info of the dataset."
      ]
    },
    {
      "cell_type": "code",
      "metadata": {
        "id": "1qfWXs7aWtLx",
        "colab": {
          "base_uri": "https://localhost:8080/",
          "height": 300
        },
        "outputId": "0f49ee7f-45dc-4a77-f1b7-b912ec138f66"
      },
      "source": [
        "# Print the description of the x data frame\n",
        "# Write your code here\n",
        "x.describe()\n"
      ],
      "execution_count": null,
      "outputs": [
        {
          "output_type": "execute_result",
          "data": {
            "text/html": [
              "\n",
              "  <div id=\"df-c4ce30eb-67d0-4c2e-99a3-7b358da4701b\">\n",
              "    <div class=\"colab-df-container\">\n",
              "      <div>\n",
              "<style scoped>\n",
              "    .dataframe tbody tr th:only-of-type {\n",
              "        vertical-align: middle;\n",
              "    }\n",
              "\n",
              "    .dataframe tbody tr th {\n",
              "        vertical-align: top;\n",
              "    }\n",
              "\n",
              "    .dataframe thead th {\n",
              "        text-align: right;\n",
              "    }\n",
              "</style>\n",
              "<table border=\"1\" class=\"dataframe\">\n",
              "  <thead>\n",
              "    <tr style=\"text-align: right;\">\n",
              "      <th></th>\n",
              "      <th>country</th>\n",
              "      <th>points</th>\n",
              "      <th>price</th>\n",
              "      <th>region_1</th>\n",
              "      <th>variety</th>\n",
              "    </tr>\n",
              "  </thead>\n",
              "  <tbody>\n",
              "    <tr>\n",
              "      <th>count</th>\n",
              "      <td>5176.000000</td>\n",
              "      <td>5176.000000</td>\n",
              "      <td>5176.000000</td>\n",
              "      <td>5176.000000</td>\n",
              "      <td>5176.000000</td>\n",
              "    </tr>\n",
              "    <tr>\n",
              "      <th>mean</th>\n",
              "      <td>3.488988</td>\n",
              "      <td>88.267388</td>\n",
              "      <td>36.352650</td>\n",
              "      <td>292.013524</td>\n",
              "      <td>94.815881</td>\n",
              "    </tr>\n",
              "    <tr>\n",
              "      <th>std</th>\n",
              "      <td>1.954723</td>\n",
              "      <td>2.924028</td>\n",
              "      <td>49.676917</td>\n",
              "      <td>188.797039</td>\n",
              "      <td>63.818459</td>\n",
              "    </tr>\n",
              "    <tr>\n",
              "      <th>min</th>\n",
              "      <td>1.000000</td>\n",
              "      <td>80.000000</td>\n",
              "      <td>4.000000</td>\n",
              "      <td>1.000000</td>\n",
              "      <td>1.000000</td>\n",
              "    </tr>\n",
              "    <tr>\n",
              "      <th>25%</th>\n",
              "      <td>2.000000</td>\n",
              "      <td>86.000000</td>\n",
              "      <td>18.000000</td>\n",
              "      <td>123.000000</td>\n",
              "      <td>40.000000</td>\n",
              "    </tr>\n",
              "    <tr>\n",
              "      <th>50%</th>\n",
              "      <td>3.000000</td>\n",
              "      <td>88.000000</td>\n",
              "      <td>28.000000</td>\n",
              "      <td>285.000000</td>\n",
              "      <td>82.000000</td>\n",
              "    </tr>\n",
              "    <tr>\n",
              "      <th>75%</th>\n",
              "      <td>5.000000</td>\n",
              "      <td>90.000000</td>\n",
              "      <td>40.000000</td>\n",
              "      <td>462.000000</td>\n",
              "      <td>154.000000</td>\n",
              "    </tr>\n",
              "    <tr>\n",
              "      <th>max</th>\n",
              "      <td>7.000000</td>\n",
              "      <td>100.000000</td>\n",
              "      <td>1900.000000</td>\n",
              "      <td>613.000000</td>\n",
              "      <td>218.000000</td>\n",
              "    </tr>\n",
              "  </tbody>\n",
              "</table>\n",
              "</div>\n",
              "      <button class=\"colab-df-convert\" onclick=\"convertToInteractive('df-c4ce30eb-67d0-4c2e-99a3-7b358da4701b')\"\n",
              "              title=\"Convert this dataframe to an interactive table.\"\n",
              "              style=\"display:none;\">\n",
              "        \n",
              "  <svg xmlns=\"http://www.w3.org/2000/svg\" height=\"24px\"viewBox=\"0 0 24 24\"\n",
              "       width=\"24px\">\n",
              "    <path d=\"M0 0h24v24H0V0z\" fill=\"none\"/>\n",
              "    <path d=\"M18.56 5.44l.94 2.06.94-2.06 2.06-.94-2.06-.94-.94-2.06-.94 2.06-2.06.94zm-11 1L8.5 8.5l.94-2.06 2.06-.94-2.06-.94L8.5 2.5l-.94 2.06-2.06.94zm10 10l.94 2.06.94-2.06 2.06-.94-2.06-.94-.94-2.06-.94 2.06-2.06.94z\"/><path d=\"M17.41 7.96l-1.37-1.37c-.4-.4-.92-.59-1.43-.59-.52 0-1.04.2-1.43.59L10.3 9.45l-7.72 7.72c-.78.78-.78 2.05 0 2.83L4 21.41c.39.39.9.59 1.41.59.51 0 1.02-.2 1.41-.59l7.78-7.78 2.81-2.81c.8-.78.8-2.07 0-2.86zM5.41 20L4 18.59l7.72-7.72 1.47 1.35L5.41 20z\"/>\n",
              "  </svg>\n",
              "      </button>\n",
              "      \n",
              "  <style>\n",
              "    .colab-df-container {\n",
              "      display:flex;\n",
              "      flex-wrap:wrap;\n",
              "      gap: 12px;\n",
              "    }\n",
              "\n",
              "    .colab-df-convert {\n",
              "      background-color: #E8F0FE;\n",
              "      border: none;\n",
              "      border-radius: 50%;\n",
              "      cursor: pointer;\n",
              "      display: none;\n",
              "      fill: #1967D2;\n",
              "      height: 32px;\n",
              "      padding: 0 0 0 0;\n",
              "      width: 32px;\n",
              "    }\n",
              "\n",
              "    .colab-df-convert:hover {\n",
              "      background-color: #E2EBFA;\n",
              "      box-shadow: 0px 1px 2px rgba(60, 64, 67, 0.3), 0px 1px 3px 1px rgba(60, 64, 67, 0.15);\n",
              "      fill: #174EA6;\n",
              "    }\n",
              "\n",
              "    [theme=dark] .colab-df-convert {\n",
              "      background-color: #3B4455;\n",
              "      fill: #D2E3FC;\n",
              "    }\n",
              "\n",
              "    [theme=dark] .colab-df-convert:hover {\n",
              "      background-color: #434B5C;\n",
              "      box-shadow: 0px 1px 3px 1px rgba(0, 0, 0, 0.15);\n",
              "      filter: drop-shadow(0px 1px 2px rgba(0, 0, 0, 0.3));\n",
              "      fill: #FFFFFF;\n",
              "    }\n",
              "  </style>\n",
              "\n",
              "      <script>\n",
              "        const buttonEl =\n",
              "          document.querySelector('#df-c4ce30eb-67d0-4c2e-99a3-7b358da4701b button.colab-df-convert');\n",
              "        buttonEl.style.display =\n",
              "          google.colab.kernel.accessAllowed ? 'block' : 'none';\n",
              "\n",
              "        async function convertToInteractive(key) {\n",
              "          const element = document.querySelector('#df-c4ce30eb-67d0-4c2e-99a3-7b358da4701b');\n",
              "          const dataTable =\n",
              "            await google.colab.kernel.invokeFunction('convertToInteractive',\n",
              "                                                     [key], {});\n",
              "          if (!dataTable) return;\n",
              "\n",
              "          const docLinkHtml = 'Like what you see? Visit the ' +\n",
              "            '<a target=\"_blank\" href=https://colab.research.google.com/notebooks/data_table.ipynb>data table notebook</a>'\n",
              "            + ' to learn more about interactive tables.';\n",
              "          element.innerHTML = '';\n",
              "          dataTable['output_type'] = 'display_data';\n",
              "          await google.colab.output.renderOutput(dataTable, element);\n",
              "          const docLink = document.createElement('div');\n",
              "          docLink.innerHTML = docLinkHtml;\n",
              "          element.appendChild(docLink);\n",
              "        }\n",
              "      </script>\n",
              "    </div>\n",
              "  </div>\n",
              "  "
            ],
            "text/plain": [
              "           country       points        price     region_1      variety\n",
              "count  5176.000000  5176.000000  5176.000000  5176.000000  5176.000000\n",
              "mean      3.488988    88.267388    36.352650   292.013524    94.815881\n",
              "std       1.954723     2.924028    49.676917   188.797039    63.818459\n",
              "min       1.000000    80.000000     4.000000     1.000000     1.000000\n",
              "25%       2.000000    86.000000    18.000000   123.000000    40.000000\n",
              "50%       3.000000    88.000000    28.000000   285.000000    82.000000\n",
              "75%       5.000000    90.000000    40.000000   462.000000   154.000000\n",
              "max       7.000000   100.000000  1900.000000   613.000000   218.000000"
            ]
          },
          "metadata": {},
          "execution_count": 31
        }
      ]
    },
    {
      "cell_type": "code",
      "source": [
        "# Print the information of x \n",
        "# Write your code here\n",
        "x.info()\n"
      ],
      "metadata": {
        "id": "uvMX_YIeU8Kg",
        "colab": {
          "base_uri": "https://localhost:8080/"
        },
        "outputId": "21ade700-bb89-4304-8150-66879dd830cb"
      },
      "execution_count": null,
      "outputs": [
        {
          "output_type": "stream",
          "name": "stdout",
          "text": [
            "<class 'pandas.core.frame.DataFrame'>\n",
            "Int64Index: 5176 entries, 0 to 6158\n",
            "Data columns (total 6 columns):\n",
            " #   Column       Non-Null Count  Dtype  \n",
            "---  ------       --------------  -----  \n",
            " 0   country      5176 non-null   int64  \n",
            " 1   description  5176 non-null   object \n",
            " 2   points       5176 non-null   int64  \n",
            " 3   price        5176 non-null   float64\n",
            " 4   region_1     5176 non-null   int64  \n",
            " 5   variety      5176 non-null   int64  \n",
            "dtypes: float64(1), int64(4), object(1)\n",
            "memory usage: 283.1+ KB\n"
          ]
        }
      ]
    },
    {
      "cell_type": "markdown",
      "metadata": {
        "id": "iUcL2zcWeWHj"
      },
      "source": [
        "# 10- Plot a (histogram) with set the size of the plots to (10,10)."
      ]
    },
    {
      "cell_type": "code",
      "metadata": {
        "id": "F-qBuEJc9S9a",
        "colab": {
          "base_uri": "https://localhost:8080/",
          "height": 729
        },
        "outputId": "18d89dae-1ba7-42d2-fe5e-43ebef98f089"
      },
      "source": [
        "# Plot the histogram for the data frame\n",
        "# Write your code here\n",
        "x.hist(figsize=(10,10))\n"
      ],
      "execution_count": null,
      "outputs": [
        {
          "output_type": "execute_result",
          "data": {
            "text/plain": [
              "array([[<matplotlib.axes._subplots.AxesSubplot object at 0x7fdfd608f790>,\n",
              "        <matplotlib.axes._subplots.AxesSubplot object at 0x7fdfd5f97750>],\n",
              "       [<matplotlib.axes._subplots.AxesSubplot object at 0x7fdfd5f95b10>,\n",
              "        <matplotlib.axes._subplots.AxesSubplot object at 0x7fdfd5fa0f10>],\n",
              "       [<matplotlib.axes._subplots.AxesSubplot object at 0x7fdfd5faa810>,\n",
              "        <matplotlib.axes._subplots.AxesSubplot object at 0x7fdfd5fb36d0>]],\n",
              "      dtype=object)"
            ]
          },
          "metadata": {},
          "execution_count": 33
        },
        {
          "output_type": "display_data",
          "data": {
            "image/png": "[encoded data removed]",
            "text/plain": [
              "<Figure size 720x720 with 6 Axes>"
            ]
          },
          "metadata": {
            "needs_background": "light"
          }
        }
      ]
    },
    {
      "cell_type": "markdown",
      "source": [
        ""
      ],
      "metadata": {
        "id": "V2Eo6tkdcFqr"
      }
    },
    {
      "cell_type": "markdown",
      "source": [
        ""
      ],
      "metadata": {
        "id": "lTZJw1fCcFNm"
      }
    },
    {
      "cell_type": "markdown",
      "metadata": {
        "id": "B4r8frm8fIyj"
      },
      "source": [
        "# 11- Save the modified DataFrame to a CSV file.\n"
      ]
    },
    {
      "cell_type": "code",
      "metadata": {
        "id": "o5bjf83_tWSi"
      },
      "source": [
        "# Save the data frame plase make sure that the csv file saved without the index \n",
        "# Write your code here\n",
        "df.drop(columns='Unnamed: 0')\n",
        "df.to_csv('ready_data.csv', index = False)"
      ],
      "execution_count": null,
      "outputs": []
    },
    {
      "cell_type": "code",
      "metadata": {
        "id": "rWSTFqCNtjAc",
        "colab": {
          "base_uri": "https://localhost:8080/",
          "height": 424
        },
        "outputId": "5efb1c8f-fd39-4047-d1a9-ca23fa6ee427"
      },
      "source": [
        "# Read the data frame that you saved to make sure everything is correct\n",
        "ready_data = pd.read_csv('/content/ready_data.csv')\n",
        "ready_data"
      ],
      "execution_count": null,
      "outputs": [
        {
          "output_type": "execute_result",
          "data": {
            "text/html": [
              "\n",
              "  <div id=\"df-c6a2eb8b-548e-46bf-a7cb-ab1aeaffa372\">\n",
              "    <div class=\"colab-df-container\">\n",
              "      <div>\n",
              "<style scoped>\n",
              "    .dataframe tbody tr th:only-of-type {\n",
              "        vertical-align: middle;\n",
              "    }\n",
              "\n",
              "    .dataframe tbody tr th {\n",
              "        vertical-align: top;\n",
              "    }\n",
              "\n",
              "    .dataframe thead th {\n",
              "        text-align: right;\n",
              "    }\n",
              "</style>\n",
              "<table border=\"1\" class=\"dataframe\">\n",
              "  <thead>\n",
              "    <tr style=\"text-align: right;\">\n",
              "      <th></th>\n",
              "      <th>country</th>\n",
              "      <th>description</th>\n",
              "      <th>points</th>\n",
              "      <th>price</th>\n",
              "      <th>region_1</th>\n",
              "      <th>variety</th>\n",
              "      <th>winery</th>\n",
              "    </tr>\n",
              "  </thead>\n",
              "  <tbody>\n",
              "    <tr>\n",
              "      <th>0</th>\n",
              "      <td>7</td>\n",
              "      <td>[1003, 1991, 5016, 3751, 7564, 3282, 5642, 348...</td>\n",
              "      <td>87.0</td>\n",
              "      <td>34.633781</td>\n",
              "      <td>542</td>\n",
              "      <td>119</td>\n",
              "      <td>2801</td>\n",
              "    </tr>\n",
              "    <tr>\n",
              "      <th>1</th>\n",
              "      <td>2</td>\n",
              "      <td>[766, 5642, 6387, 322, 5543, 7521, 6212, 1384,...</td>\n",
              "      <td>87.0</td>\n",
              "      <td>14.000000</td>\n",
              "      <td>557</td>\n",
              "      <td>211</td>\n",
              "      <td>732</td>\n",
              "    </tr>\n",
              "    <tr>\n",
              "      <th>2</th>\n",
              "      <td>2</td>\n",
              "      <td>[2968, 6302, 4722, 1215, 5642, 7437, 3597, 689...</td>\n",
              "      <td>87.0</td>\n",
              "      <td>13.000000</td>\n",
              "      <td>131</td>\n",
              "      <td>191</td>\n",
              "      <td>587</td>\n",
              "    </tr>\n",
              "    <tr>\n",
              "      <th>3</th>\n",
              "      <td>2</td>\n",
              "      <td>[7351, 1577, 322, 5125, 4916, 1441, 3983, 8196...</td>\n",
              "      <td>87.0</td>\n",
              "      <td>65.000000</td>\n",
              "      <td>557</td>\n",
              "      <td>70</td>\n",
              "      <td>789</td>\n",
              "    </tr>\n",
              "    <tr>\n",
              "      <th>4</th>\n",
              "      <td>4</td>\n",
              "      <td>[8766, 5642, 4423, 1003, 50, 5289, 2018, 8276,...</td>\n",
              "      <td>87.0</td>\n",
              "      <td>15.000000</td>\n",
              "      <td>275</td>\n",
              "      <td>96</td>\n",
              "      <td>2927</td>\n",
              "    </tr>\n",
              "    <tr>\n",
              "      <th>...</th>\n",
              "      <td>...</td>\n",
              "      <td>...</td>\n",
              "      <td>...</td>\n",
              "      <td>...</td>\n",
              "      <td>...</td>\n",
              "      <td>...</td>\n",
              "      <td>...</td>\n",
              "    </tr>\n",
              "    <tr>\n",
              "      <th>5171</th>\n",
              "      <td>3</td>\n",
              "      <td>[8196, 4187, 7759, 7882, 3386, 1758, 322, 8915...</td>\n",
              "      <td>89.0</td>\n",
              "      <td>34.633781</td>\n",
              "      <td>424</td>\n",
              "      <td>82</td>\n",
              "      <td>1591</td>\n",
              "    </tr>\n",
              "    <tr>\n",
              "      <th>5172</th>\n",
              "      <td>5</td>\n",
              "      <td>[322, 2942, 8055, 1694, 1183, 3211, 797, 4034,...</td>\n",
              "      <td>89.0</td>\n",
              "      <td>32.000000</td>\n",
              "      <td>12</td>\n",
              "      <td>8</td>\n",
              "      <td>429</td>\n",
              "    </tr>\n",
              "    <tr>\n",
              "      <th>5173</th>\n",
              "      <td>3</td>\n",
              "      <td>[2299, 1354, 5757, 1459, 1826, 5289, 3050, 136...</td>\n",
              "      <td>89.0</td>\n",
              "      <td>13.000000</td>\n",
              "      <td>340</td>\n",
              "      <td>31</td>\n",
              "      <td>1161</td>\n",
              "    </tr>\n",
              "    <tr>\n",
              "      <th>5174</th>\n",
              "      <td>2</td>\n",
              "      <td>[1758, 5289, 885, 8616, 7709, 8196, 3984, 7753...</td>\n",
              "      <td>89.0</td>\n",
              "      <td>35.000000</td>\n",
              "      <td>379</td>\n",
              "      <td>183</td>\n",
              "      <td>3070</td>\n",
              "    </tr>\n",
              "    <tr>\n",
              "      <th>5175</th>\n",
              "      <td>2</td>\n",
              "      <td>[2166, 5642, 2349, 8196, 899, 5289, 920, 1365,...</td>\n",
              "      <td>89.0</td>\n",
              "      <td>25.000000</td>\n",
              "      <td>416</td>\n",
              "      <td>164</td>\n",
              "      <td>2827</td>\n",
              "    </tr>\n",
              "  </tbody>\n",
              "</table>\n",
              "<p>5176 rows × 7 columns</p>\n",
              "</div>\n",
              "      <button class=\"colab-df-convert\" onclick=\"convertToInteractive('df-c6a2eb8b-548e-46bf-a7cb-ab1aeaffa372')\"\n",
              "              title=\"Convert this dataframe to an interactive table.\"\n",
              "              style=\"display:none;\">\n",
              "        \n",
              "  <svg xmlns=\"http://www.w3.org/2000/svg\" height=\"24px\"viewBox=\"0 0 24 24\"\n",
              "       width=\"24px\">\n",
              "    <path d=\"M0 0h24v24H0V0z\" fill=\"none\"/>\n",
              "    <path d=\"M18.56 5.44l.94 2.06.94-2.06 2.06-.94-2.06-.94-.94-2.06-.94 2.06-2.06.94zm-11 1L8.5 8.5l.94-2.06 2.06-.94-2.06-.94L8.5 2.5l-.94 2.06-2.06.94zm10 10l.94 2.06.94-2.06 2.06-.94-2.06-.94-.94-2.06-.94 2.06-2.06.94z\"/><path d=\"M17.41 7.96l-1.37-1.37c-.4-.4-.92-.59-1.43-.59-.52 0-1.04.2-1.43.59L10.3 9.45l-7.72 7.72c-.78.78-.78 2.05 0 2.83L4 21.41c.39.39.9.59 1.41.59.51 0 1.02-.2 1.41-.59l7.78-7.78 2.81-2.81c.8-.78.8-2.07 0-2.86zM5.41 20L4 18.59l7.72-7.72 1.47 1.35L5.41 20z\"/>\n",
              "  </svg>\n",
              "      </button>\n",
              "      \n",
              "  <style>\n",
              "    .colab-df-container {\n",
              "      display:flex;\n",
              "      flex-wrap:wrap;\n",
              "      gap: 12px;\n",
              "    }\n",
              "\n",
              "    .colab-df-convert {\n",
              "      background-color: #E8F0FE;\n",
              "      border: none;\n",
              "      border-radius: 50%;\n",
              "      cursor: pointer;\n",
              "      display: none;\n",
              "      fill: #1967D2;\n",
              "      height: 32px;\n",
              "      padding: 0 0 0 0;\n",
              "      width: 32px;\n",
              "    }\n",
              "\n",
              "    .colab-df-convert:hover {\n",
              "      background-color: #E2EBFA;\n",
              "      box-shadow: 0px 1px 2px rgba(60, 64, 67, 0.3), 0px 1px 3px 1px rgba(60, 64, 67, 0.15);\n",
              "      fill: #174EA6;\n",
              "    }\n",
              "\n",
              "    [theme=dark] .colab-df-convert {\n",
              "      background-color: #3B4455;\n",
              "      fill: #D2E3FC;\n",
              "    }\n",
              "\n",
              "    [theme=dark] .colab-df-convert:hover {\n",
              "      background-color: #434B5C;\n",
              "      box-shadow: 0px 1px 3px 1px rgba(0, 0, 0, 0.15);\n",
              "      filter: drop-shadow(0px 1px 2px rgba(0, 0, 0, 0.3));\n",
              "      fill: #FFFFFF;\n",
              "    }\n",
              "  </style>\n",
              "\n",
              "      <script>\n",
              "        const buttonEl =\n",
              "          document.querySelector('#df-c6a2eb8b-548e-46bf-a7cb-ab1aeaffa372 button.colab-df-convert');\n",
              "        buttonEl.style.display =\n",
              "          google.colab.kernel.accessAllowed ? 'block' : 'none';\n",
              "\n",
              "        async function convertToInteractive(key) {\n",
              "          const element = document.querySelector('#df-c6a2eb8b-548e-46bf-a7cb-ab1aeaffa372');\n",
              "          const dataTable =\n",
              "            await google.colab.kernel.invokeFunction('convertToInteractive',\n",
              "                                                     [key], {});\n",
              "          if (!dataTable) return;\n",
              "\n",
              "          const docLinkHtml = 'Like what you see? Visit the ' +\n",
              "            '<a target=\"_blank\" href=https://colab.research.google.com/notebooks/data_table.ipynb>data table notebook</a>'\n",
              "            + ' to learn more about interactive tables.';\n",
              "          element.innerHTML = '';\n",
              "          dataTable['output_type'] = 'display_data';\n",
              "          await google.colab.output.renderOutput(dataTable, element);\n",
              "          const docLink = document.createElement('div');\n",
              "          docLink.innerHTML = docLinkHtml;\n",
              "          element.appendChild(docLink);\n",
              "        }\n",
              "      </script>\n",
              "    </div>\n",
              "  </div>\n",
              "  "
            ],
            "text/plain": [
              "      country  ... winery\n",
              "0           7  ...   2801\n",
              "1           2  ...    732\n",
              "2           2  ...    587\n",
              "3           2  ...    789\n",
              "4           4  ...   2927\n",
              "...       ...  ...    ...\n",
              "5171        3  ...   1591\n",
              "5172        5  ...    429\n",
              "5173        3  ...   1161\n",
              "5174        2  ...   3070\n",
              "5175        2  ...   2827\n",
              "\n",
              "[5176 rows x 7 columns]"
            ]
          },
          "metadata": {},
          "execution_count": 42
        }
      ]
    }
  ]
}